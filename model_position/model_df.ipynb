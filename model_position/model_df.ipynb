{
 "cells": [
  {
   "cell_type": "markdown",
   "metadata": {},
   "source": [
    "### 1. 라이브러리 import"
   ]
  },
  {
   "cell_type": "code",
   "execution_count": 1,
   "metadata": {},
   "outputs": [],
   "source": [
    "import pandas as pd # pandas는 데이터를 다루기 위한 라이브러리\n",
    "from sklearn.model_selection import train_test_split  # train_test_split은 데이터를 train과 test로 나누기 위한 라이브러리\n",
    "from sklearn.preprocessing import StandardScaler  # StandardScaler는 데이터를 표준화하기 위한 라이브러리\n",
    "from sklearn.linear_model import LogisticRegression # LogisticRegression는 로지스틱 회귀를 위한 라이브러리\n",
    "from sklearn.ensemble import RandomForestClassifier # RandomForestClassifier는 랜덤 포레스트를 위한 라이브러리\n",
    "from xgboost import XGBClassifier # XGBClassifier는 XGBoost를 위한 라이브러리\n",
    "from sklearn.metrics import classification_report, accuracy_score # classification_report와 accuracy_score를 import\n"
   ]
  },
  {
   "cell_type": "markdown",
   "metadata": {},
   "source": [
    "### 2. data load and Split"
   ]
  },
  {
   "cell_type": "code",
   "execution_count": null,
   "metadata": {},
   "outputs": [],
   "source": [
    "df_df = pd.read_csv(\"player_TopRate_position_JJINMAK/DF_combined.csv\")\n",
    "df_df.columns # 데이터의 컬럼을 확인"
   ]
  },
  {
   "cell_type": "markdown",
   "metadata": {},
   "source": [
    "### 3. VIF 계산"
   ]
  },
  {
   "cell_type": "code",
   "execution_count": null,
   "metadata": {},
   "outputs": [],
   "source": [
    "import pandas as pd\n",
    "import numpy as np\n",
    "from statsmodels.stats.outliers_influence import variance_inflation_factor\n",
    "from statsmodels.tools.tools import add_constant\n",
    "\n",
    "def calculate_vif(dataframe):\n",
    "    \"\"\"\n",
    "    주어진 데이터프레임의 VIF(분산 팽창 계수)를 계산.\n",
    "\n",
    "    Args:\n",
    "        dataframe (pd.DataFrame): 독립 변수들로 이루어진 데이터프레임.\n",
    "\n",
    "    Returns:\n",
    "        pd.DataFrame: 변수 이름과 해당 VIF 값.\n",
    "    \"\"\"\n",
    "    # 상수항 추가 (회귀식의 절편을 고려하기 위함)\n",
    "    X = add_constant(dataframe)\n",
    "    \n",
    "    # VIF 계산\n",
    "    vif_data = pd.DataFrame()\n",
    "    vif_data[\"Feature\"] = X.columns\n",
    "    vif_data[\"VIF\"] = [variance_inflation_factor(X.values, i) for i in range(X.shape[1])]\n",
    "\n",
    "    return vif_data\n",
    "\n",
    "df_df_drop = df_df.copy()\n",
    "df_df_drop = df_df.drop(columns= ['선수', \"포지션_DF\", \"포지션_FW\", \"포지션_GK\", \"포지션_MF\", \"평점\", \"isWin\"])\n",
    "# 예시 데이터\n",
    "# df: 독립 변수들로 이루어진 데이터프레임\n",
    "vif_result = calculate_vif(df_df_drop)\n",
    "vif_result = vif_result[vif_result['VIF'] < 7].reset_index(drop=True)\n",
    "# VIF 결과 출력\n",
    "print(vif_result)\n",
    "feature_list = vif_result['Feature'].tolist()\n"
   ]
  },
  {
   "cell_type": "code",
   "execution_count": null,
   "metadata": {},
   "outputs": [],
   "source": [
    "vif_result_sorted = vif_result.sort_values(by=vif_result.columns[1], ascending=False)\n",
    "\n",
    "# 결과 확인\n",
    "vif_result_sorted"
   ]
  },
  {
   "cell_type": "code",
   "execution_count": null,
   "metadata": {},
   "outputs": [],
   "source": [
    "import matplotlib.pyplot as plt\n",
    "import seaborn as sns\n",
    "\n",
    "# VIF 값을 오름차순으로 정렬\n",
    "vif_result_sorted = vif_result.sort_values(by='VIF', ascending=True)\n",
    "\n",
    "# 시각화\n",
    "plt.figure(figsize=(10, 6))\n",
    "sns.barplot(x='VIF', y='Feature', data=vif_result_sorted, palette='viridis')\n",
    "plt.title('VIF Values by Feature in DF')\n",
    "plt.xlabel('VIF')\n",
    "plt.ylabel('Feature')\n",
    "plt.show()"
   ]
  },
  {
   "cell_type": "code",
   "execution_count": null,
   "metadata": {},
   "outputs": [],
   "source": [
    "# '성공'이 포함되었지만 '성공률'이 포함된 항목만 남기고, 나머지 항목은 그대로 포함\n",
    "filtered_features = [\n",
    "    feature for feature in feature_list if '성공률' in feature or '성공' not in feature\n",
    "]\n",
    "\n",
    "print(len(filtered_features))"
   ]
  },
  {
   "cell_type": "code",
   "execution_count": null,
   "metadata": {},
   "outputs": [],
   "source": [
    "X = df_df[filtered_features]\n",
    "y = df_df[\"isWin\"]  # 타겟 변수\n",
    "\n",
    "# 학습/검증 데이터 분리\n",
    "X_train, X_test, y_train, y_test = train_test_split(X, y, test_size=0.2, random_state=42, stratify=y)"
   ]
  },
  {
   "cell_type": "markdown",
   "metadata": {},
   "source": [
    "### 4. LogisticRegression learning and evalutaion (RFE)\n",
    "- RFE(Recursive Feature Elimination)"
   ]
  },
  {
   "cell_type": "code",
   "execution_count": null,
   "metadata": {},
   "outputs": [],
   "source": [
    "from sklearn.feature_selection import RFE\n",
    "# 모델 선택\n",
    "model = LogisticRegression(max_iter=10000)\n",
    "\n",
    "# RFE를 통한 피처 선택\n",
    "selector = RFE(estimator=model, n_features_to_select=20)  # 선택할 피처 수 설정\n",
    "selector = selector.fit(X_train, y_train)\n",
    "\n",
    "# 선택된 피처 출력\n",
    "selected_features = X_train.columns[selector.support_]  # 선택된 피처들\n",
    "print(\"선택된 피처들:\", selected_features)\n",
    "\n",
    "# 선택된 피처를 사용한 모델 학습\n",
    "X_train_selected = selector.transform(X_train)\n",
    "X_test_selected = selector.transform(X_test)\n",
    "\n",
    "# 모델 학습\n",
    "model.fit(X_train_selected, y_train)\n",
    "\n",
    "# 모델 성능 평가\n",
    "accuracy = model.score(X_test_selected, y_test)\n",
    "print(f\"모델 정확도: {accuracy:.4f}\")"
   ]
  },
  {
   "cell_type": "markdown",
   "metadata": {},
   "source": [
    "### 5. LogisticRegression learning and evalutaion "
   ]
  },
  {
   "cell_type": "code",
   "execution_count": 40,
   "metadata": {},
   "outputs": [],
   "source": [
    "scaler = StandardScaler() # 표준화를 위한 객체 생성\n",
    "X_train_scaled = scaler.fit_transform(X_train) # 학습 데이터의 표준화\n",
    "X_test_scaled = scaler.transform(X_test) # 검증 데이터의 표준화"
   ]
  },
  {
   "cell_type": "code",
   "execution_count": 41,
   "metadata": {},
   "outputs": [],
   "source": [
    "logistic_model = LogisticRegression(random_state=42) # 로지스틱 회귀 모델 생성"
   ]
  },
  {
   "cell_type": "code",
   "execution_count": 42,
   "metadata": {},
   "outputs": [],
   "source": [
    "logistic_model.fit(X_train_scaled, y_train) # 모델 학습\n",
    "logistic_preds = logistic_model.predict(X_test_scaled) # 모델 예측"
   ]
  },
  {
   "cell_type": "code",
   "execution_count": null,
   "metadata": {},
   "outputs": [],
   "source": [
    "print(\"Logistic Regression Performance:\") # 성능 평가\n",
    "print(classification_report(y_test, logistic_preds)) # 분류 리포트 출력\n",
    "print(\"Accuracy:\", accuracy_score(y_test, logistic_preds)) # 정확도 출력"
   ]
  },
  {
   "cell_type": "markdown",
   "metadata": {},
   "source": [
    "### 6. RandomForest and evalutaion "
   ]
  },
  {
   "cell_type": "code",
   "execution_count": 44,
   "metadata": {},
   "outputs": [],
   "source": [
    "rf_model = RandomForestClassifier(random_state=42, n_estimators=100, max_depth=10) # 랜덤 포레스트 모델 생성"
   ]
  },
  {
   "cell_type": "code",
   "execution_count": 45,
   "metadata": {},
   "outputs": [],
   "source": [
    "rf_model.fit(X_train, y_train) # 모델 학습\n",
    "rf_preds = rf_model.predict(X_test) # 모델 예측"
   ]
  },
  {
   "cell_type": "code",
   "execution_count": null,
   "metadata": {},
   "outputs": [],
   "source": [
    "print(\"\\nRandom Forest Performance:\") # 성능 평가\n",
    "print(classification_report(y_test, rf_preds)) # 분류 리포트 출력\n",
    "print(\"Accuracy:\", accuracy_score(y_test, rf_preds)) # 정확도 출력"
   ]
  },
  {
   "cell_type": "markdown",
   "metadata": {},
   "source": [
    "### 7. XGBoost and evalutaion "
   ]
  },
  {
   "cell_type": "code",
   "execution_count": 48,
   "metadata": {},
   "outputs": [],
   "source": [
    "xgb_model = XGBClassifier(random_state=42, n_estimators=100, max_depth=10, learning_rate=0.1) # XGBoost 모델 생성"
   ]
  },
  {
   "cell_type": "code",
   "execution_count": 49,
   "metadata": {},
   "outputs": [],
   "source": [
    "xgb_model.fit(X_train, y_train) # 모델 학습\n",
    "xgb_preds = xgb_model.predict(X_test) # 모델 예측"
   ]
  },
  {
   "cell_type": "code",
   "execution_count": null,
   "metadata": {},
   "outputs": [],
   "source": [
    "print(\"\\nXGBoost Performance:\") # 성능 평가\n",
    "print(classification_report(y_test, xgb_preds)) # 분류 리포트 출력\n",
    "print(\"Accuracy:\", accuracy_score(y_test, xgb_preds)) # 정확도 출력"
   ]
  },
  {
   "cell_type": "markdown",
   "metadata": {},
   "source": [
    "### 8. Logistic, Random, XGBoost overfit check"
   ]
  },
  {
   "cell_type": "code",
   "execution_count": 21,
   "metadata": {},
   "outputs": [],
   "source": [
    "from sklearn.metrics import confusion_matrix # confusion_matrix를 import"
   ]
  },
  {
   "cell_type": "code",
   "execution_count": null,
   "metadata": {},
   "outputs": [],
   "source": [
    "# 모델 초기화\n",
    "models = {\n",
    "    \"Logistic Regression\": LogisticRegression(random_state=42),\n",
    "    \"Random Forest\": RandomForestClassifier(random_state=42, n_estimators=100, max_depth=10),\n",
    "    \"XGBoost\": XGBClassifier(random_state=42, n_estimators=100, max_depth=10, learning_rate=0.1),\n",
    "}\n",
    "\n",
    "# 성능 평가 함수 정의\n",
    "def evaluate_model(y_true, y_pred):\n",
    "    cm = confusion_matrix(y_true, y_pred)\n",
    "    tn, fp, fn, tp = cm.ravel()\n",
    "    \n",
    "    accuracy = (tp + tn) / (tn + fp + fn + tp)\n",
    "    precision = tp / (tp + fp) if (tp + fp) > 0 else 0\n",
    "    recall = tp / (tp + fn) if (tp + fn) > 0 else 0\n",
    "    f1 = (2 * precision * recall) / (precision + recall) if (precision + recall) > 0 else 0\n",
    "    \n",
    "    return accuracy, precision, recall, f1\n",
    "\n",
    "# 모델 학습 및 평가\n",
    "for model_name, model in models.items():\n",
    "    print(f\"\\nTraining {model_name}...\")\n",
    "    \n",
    "    # 학습\n",
    "    model.fit(X_train, y_train)\n",
    "    \n",
    "    # 학습 데이터 성능\n",
    "    train_preds = model.predict(X_train)\n",
    "    train_accuracy, train_precision, train_recall, train_f1 = evaluate_model(y_train, train_preds)\n",
    "    \n",
    "    # 테스트 데이터 성능\n",
    "    test_preds = model.predict(X_test)\n",
    "    test_accuracy, test_precision, test_recall, test_f1 = evaluate_model(y_test, test_preds)\n",
    "    \n",
    "    # 성능 비교 출력\n",
    "    print(f\"{model_name} Performance:\")\n",
    "    print(f\"Train Accuracy: {train_accuracy:.4f}, Test Accuracy: {test_accuracy:.4f}\")\n",
    "    print(f\"Train Precision: {train_precision:.4f}, Test Precision: {test_precision:.4f}\")\n",
    "    print(f\"Train Recall: {train_recall:.4f}, Test Recall: {test_recall:.4f}\")\n",
    "    print(f\"Train F1 Score: {train_f1:.4f}, Test F1 Score: {test_f1:.4f}\")\n",
    "    \n",
    "    # 과적합 여부 확인\n",
    "    if train_accuracy - test_accuracy > 0.1 or train_f1 - test_f1 > 0.1:\n",
    "        print(\"Potential Overfitting Detected!\")\n",
    "    else:\n",
    "        print(\"No Significant Overfitting Observed.\")"
   ]
  },
  {
   "cell_type": "code",
   "execution_count": 23,
   "metadata": {},
   "outputs": [],
   "source": [
    "import matplotlib.pyplot as plt\n",
    "import seaborn as sns\n",
    "from sklearn.metrics import confusion_matrix"
   ]
  },
  {
   "cell_type": "markdown",
   "metadata": {},
   "source": [
    "### 9. Visualization"
   ]
  },
  {
   "cell_type": "code",
   "execution_count": null,
   "metadata": {},
   "outputs": [],
   "source": [
    "import numpy as np\n",
    "import pandas as pd\n",
    "import matplotlib.pyplot as plt\n",
    "from sklearn.model_selection import train_test_split, cross_val_score\n",
    "from sklearn.linear_model import LogisticRegression\n",
    "from sklearn.ensemble import RandomForestClassifier\n",
    "from xgboost import XGBClassifier\n",
    "from sklearn.metrics import confusion_matrix, ConfusionMatrixDisplay\n",
    "\n",
    "\n",
    "# 모델 정의\n",
    "models = {\n",
    "    \"Logistic Regression\": LogisticRegression(max_iter=10000),\n",
    "    \"Random Forest\": RandomForestClassifier(n_estimators=100, random_state=42),\n",
    "    \"XGBoost\": XGBClassifier(eval_metric='logloss', random_state=42)\n",
    "}\n",
    "\n",
    "# 교차 검증과 혼돈 행렬 시각화\n",
    "for model_name, model in models.items():\n",
    "    print(f\"모델: {model_name}\")\n",
    "    \n",
    "    # 교차 검증: 5-fold 교차 검증으로 정확도 평가\n",
    "    cv_scores = cross_val_score(model, X_train, y_train, cv=5)\n",
    "    print(f\"교차 검증 정확도: {cv_scores.mean():.4f} ± {cv_scores.std():.4f}\")\n",
    "    \n",
    "    # 모델 학습\n",
    "    model.fit(X_train, y_train)\n",
    "    \n",
    "    # 테스트 데이터로 예측\n",
    "    y_pred = model.predict(X_test)\n",
    "    \n",
    "    # 혼돈 행렬 계산\n",
    "    cm = confusion_matrix(y_test, y_pred)\n",
    "    \n",
    "    # 혼돈 행렬 시각화\n",
    "    disp = ConfusionMatrixDisplay(confusion_matrix=cm, display_labels=model.classes_)\n",
    "    disp.plot(cmap=plt.cm.Blues)\n",
    "    plt.title(f\"{model_name} Confusion Matrix\")\n",
    "    plt.show()\n",
    "    \n",
    "    print(\"=\"*50)"
   ]
  },
  {
   "cell_type": "markdown",
   "metadata": {},
   "source": [
    "# 10. XAI"
   ]
  },
  {
   "cell_type": "code",
   "execution_count": null,
   "metadata": {},
   "outputs": [],
   "source": [
    "import shap\n",
    "import matplotlib.pyplot as plt\n",
    "from sklearn.linear_model import LogisticRegression\n",
    "from sklearn.ensemble import RandomForestClassifier\n",
    "from xgboost import XGBClassifier\n",
    "from sklearn.model_selection import train_test_split\n",
    "\n",
    "# 데이터 준비\n",
    "X_train, X_test, y_train, y_test = train_test_split(X, y, test_size=0.3, random_state=42)\n",
    "\n",
    "# 모델 정의\n",
    "models = {\n",
    "    \"Logistic Regression\": LogisticRegression(max_iter=10000),\n",
    "    \"Random Forest\": RandomForestClassifier(n_estimators=100, random_state=42),\n",
    "    \"XGBoost\": XGBClassifier(use_label_encoder=False, eval_metric='logloss', random_state=42)\n",
    "}\n",
    "\n",
    "# SHAP 값 계산 및 시각화\n",
    "for model_name, model in models.items():\n",
    "    # 모델 학습\n",
    "    model.fit(X_train, y_train)\n",
    "    \n",
    "    # SHAP 설명기 생성\n",
    "    explainer = shap.TreeExplainer(model) if model_name == \"XGBoost\" or model_name == \"Random Forest\" else shap.LinearExplainer(model, X_train)\n",
    "    \n",
    "    # SHAP 값 계산\n",
    "    shap_values = explainer.shap_values(X_test)\n",
    "    \n",
    "    # SHAP summary plot\n",
    "    print(f\"{model_name} SHAP Summary Plot\")\n",
    "    shap.summary_plot(shap_values, X_test)\n",
    "    plt.show()\n",
    "    \n",
    "    # SHAP dependence plot (특정 특성에 대한 SHAP 값의 관계 시각화)\n",
    "    # shap.dependence_plot(0, shap_values, X_test)  # 0번 특성 (첫 번째 특성)에 대한 종속성 플롯\n",
    "    # plt.show()"
   ]
  },
  {
   "cell_type": "code",
   "execution_count": null,
   "metadata": {},
   "outputs": [],
   "source": [
    "from lime.lime_tabular import LimeTabularExplainer\n",
    "import numpy as np\n",
    "\n",
    "# 모델 학습 (예시: 랜덤 포레스트)\n",
    "model = RandomForestClassifier(n_estimators=100, random_state=42)\n",
    "model.fit(X_train, y_train)\n",
    "\n",
    "# LIME 설명기 생성\n",
    "explainer = LimeTabularExplainer(X_train.values, training_labels=y_train.values, mode='classification', \n",
    "                                 feature_names=X.columns, class_names=['0', '1'], discretize_continuous=True)\n",
    "\n",
    "# 특정 샘플에 대해 설명 생성\n",
    "i = 1  # 설명을 원하는 샘플 인덱스\n",
    "explanation = explainer.explain_instance(X_test.iloc[i].values, model.predict_proba)\n",
    "\n",
    "# LIME 결과 시각화\n",
    "explanation.show_in_notebook(show_table=True, show_all=False)"
   ]
  }
 ],
 "metadata": {
  "kernelspec": {
   "display_name": "3.8.19",
   "language": "python",
   "name": "python3"
  },
  "language_info": {
   "codemirror_mode": {
    "name": "ipython",
    "version": 3
   },
   "file_extension": ".py",
   "mimetype": "text/x-python",
   "name": "python",
   "nbconvert_exporter": "python",
   "pygments_lexer": "ipython3",
   "version": "3.8.19"
  }
 },
 "nbformat": 4,
 "nbformat_minor": 2
}
